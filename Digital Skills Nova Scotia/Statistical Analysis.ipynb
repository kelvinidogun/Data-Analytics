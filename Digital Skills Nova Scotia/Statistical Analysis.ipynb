{
 "cells": [
  {
   "cell_type": "markdown",
   "id": "01d90534",
   "metadata": {},
   "source": [
    "# Question 3"
   ]
  },
  {
   "cell_type": "code",
   "execution_count": 6,
   "id": "2af7b5f4",
   "metadata": {},
   "outputs": [],
   "source": [
    "import pandas as pd\n",
    "import numpy as np\n",
    "import matplotlib.pyplot as plt\n",
    "import seaborn as sns\n",
    "from sklearn.linear_model import LinearRegression"
   ]
  },
  {
   "cell_type": "code",
   "execution_count": 4,
   "id": "28d824cc",
   "metadata": {},
   "outputs": [
    {
     "data": {
      "text/html": [
       "<div>\n",
       "<style scoped>\n",
       "    .dataframe tbody tr th:only-of-type {\n",
       "        vertical-align: middle;\n",
       "    }\n",
       "\n",
       "    .dataframe tbody tr th {\n",
       "        vertical-align: top;\n",
       "    }\n",
       "\n",
       "    .dataframe thead th {\n",
       "        text-align: right;\n",
       "    }\n",
       "</style>\n",
       "<table border=\"1\" class=\"dataframe\">\n",
       "  <thead>\n",
       "    <tr style=\"text-align: right;\">\n",
       "      <th></th>\n",
       "      <th>x1</th>\n",
       "      <th>x2</th>\n",
       "    </tr>\n",
       "  </thead>\n",
       "  <tbody>\n",
       "    <tr>\n",
       "      <th>0</th>\n",
       "      <td>27.440675</td>\n",
       "      <td>58.350216</td>\n",
       "    </tr>\n",
       "    <tr>\n",
       "      <th>1</th>\n",
       "      <td>35.759468</td>\n",
       "      <td>70.721069</td>\n",
       "    </tr>\n",
       "    <tr>\n",
       "      <th>2</th>\n",
       "      <td>30.138169</td>\n",
       "      <td>59.607830</td>\n",
       "    </tr>\n",
       "    <tr>\n",
       "      <th>3</th>\n",
       "      <td>27.244159</td>\n",
       "      <td>59.877037</td>\n",
       "    </tr>\n",
       "    <tr>\n",
       "      <th>4</th>\n",
       "      <td>21.182740</td>\n",
       "      <td>36.731351</td>\n",
       "    </tr>\n",
       "  </tbody>\n",
       "</table>\n",
       "</div>"
      ],
      "text/plain": [
       "          x1         x2\n",
       "0  27.440675  58.350216\n",
       "1  35.759468  70.721069\n",
       "2  30.138169  59.607830\n",
       "3  27.244159  59.877037\n",
       "4  21.182740  36.731351"
      ]
     },
     "execution_count": 4,
     "metadata": {},
     "output_type": "execute_result"
    }
   ],
   "source": [
    "q3_data = pd.read_csv('q3_data.csv')\n",
    "q3_data.head()"
   ]
  },
  {
   "cell_type": "code",
   "execution_count": 30,
   "id": "440b3d3e",
   "metadata": {},
   "outputs": [
    {
     "data": {
      "text/html": [
       "<div>\n",
       "<style scoped>\n",
       "    .dataframe tbody tr th:only-of-type {\n",
       "        vertical-align: middle;\n",
       "    }\n",
       "\n",
       "    .dataframe tbody tr th {\n",
       "        vertical-align: top;\n",
       "    }\n",
       "\n",
       "    .dataframe thead th {\n",
       "        text-align: right;\n",
       "    }\n",
       "</style>\n",
       "<table border=\"1\" class=\"dataframe\">\n",
       "  <thead>\n",
       "    <tr style=\"text-align: right;\">\n",
       "      <th></th>\n",
       "      <th>x1</th>\n",
       "      <th>x2</th>\n",
       "    </tr>\n",
       "  </thead>\n",
       "  <tbody>\n",
       "    <tr>\n",
       "      <th>mean</th>\n",
       "      <td>49.79</td>\n",
       "      <td>-50.17</td>\n",
       "    </tr>\n",
       "    <tr>\n",
       "      <th>median</th>\n",
       "      <td>50.26</td>\n",
       "      <td>-50.36</td>\n",
       "    </tr>\n",
       "  </tbody>\n",
       "</table>\n",
       "</div>"
      ],
      "text/plain": [
       "           x1     x2\n",
       "mean    49.79 -50.17\n",
       "median  50.26 -50.36"
      ]
     },
     "execution_count": 30,
     "metadata": {},
     "output_type": "execute_result"
    }
   ],
   "source": [
    "# What is the mean, mode, median and interquartile range for x1 and x2?\n",
    "q3_data.agg({'x1':['mean','median'], 'x2': ['mean','median']}).round(2)"
   ]
  },
  {
   "cell_type": "code",
   "execution_count": 37,
   "id": "84a4f5d2",
   "metadata": {},
   "outputs": [],
   "source": [
    "# create a function to calculate iqr\n",
    "def pct(column):\n",
    "    return column.quantile(0.75) - column.quantile(0.25)"
   ]
  },
  {
   "cell_type": "code",
   "execution_count": 36,
   "id": "7599db15",
   "metadata": {},
   "outputs": [
    {
     "name": "stdout",
     "output_type": "stream",
     "text": [
      "x1_mode: 0.23, x2_mode: -210.09, x1_iqr: 45.91, x2_iqr: 201.34\n"
     ]
    }
   ],
   "source": [
    "print(f'x1_mode: {q3_data.x1.mode()[0].round(2)}, x2_mode: {q3_data.x2.mode()[0].round(2)},\\\n",
    " x1_iqr: {q3_data.x1.agg(pct).round(2)}, x2_iqr: {q3_data.x2.agg(pct).round(2)}')"
   ]
  },
  {
   "cell_type": "code",
   "execution_count": 41,
   "id": "f3aa872e",
   "metadata": {},
   "outputs": [
    {
     "data": {
      "text/plain": [
       "-0.8318445482811823"
      ]
     },
     "execution_count": 41,
     "metadata": {},
     "output_type": "execute_result"
    }
   ],
   "source": [
    "# What is the correlation coefficient between x1 and x2?\n",
    "# Calculate the correlation coefficient between x1 and x2\n",
    "correlation_coefficient = q3_data['x1'].corr(q3_data['x2'])\n",
    "\n",
    "correlation_coefficient"
   ]
  },
  {
   "cell_type": "code",
   "execution_count": 40,
   "id": "caee2f22",
   "metadata": {},
   "outputs": [
    {
     "data": {
      "image/png": "[encoded data removed]",
      "text/plain": [
       "<Figure size 864x504 with 1 Axes>"
      ]
     },
     "metadata": {
      "needs_background": "light"
     },
     "output_type": "display_data"
    }
   ],
   "source": [
    "# Fit a regression line and visualise the data points\n",
    "# Reshape data and fit a regression line\n",
    "X = q3_data['x1'].values.reshape(-1, 1)\n",
    "y = q3_data['x2'].values\n",
    "regression_model = LinearRegression().fit(X, y)\n",
    "\n",
    "# Predict values for the regression line\n",
    "predicted_y = regression_model.predict(X)\n",
    "\n",
    "# Visualize the data points and regression line\n",
    "plt.figure(figsize=(12, 7))\n",
    "sns.scatterplot(x=q3_data['x1'], y=q3_data['x2'], color='blue', label='Data Points')\n",
    "plt.plot(q3_data['x1'], predicted_y, color='red', label='Regression Line')\n",
    "plt.title('Scatter Plot with Regression Line')\n",
    "plt.xlabel('x1')\n",
    "plt.ylabel('x2')\n",
    "plt.legend()\n",
    "plt.show()"
   ]
  },
  {
   "cell_type": "markdown",
   "id": "4590d323",
   "metadata": {},
   "source": [
    "# COMMENTS\n",
    "The calculated correlation coefficient of approximately −0.8318 indicates a strong negative linear relationship between x1 and x2. The regression line in the scatter plot confirms thios negatiove relationship as the line has a clear downwar inclined slope. With regards to the distribution of the data points, they lie mostly around the regression line, reinforcing the correlation's indication of a strong relationship. Though some outliers exist, the majority of the data points support this negative correlation.\n"
   ]
  },
  {
   "cell_type": "code",
   "execution_count": null,
   "id": "a3d2bfc3",
   "metadata": {},
   "outputs": [],
   "source": []
  }
 ],
 "metadata": {
  "kernelspec": {
   "display_name": "Python 3 (ipykernel)",
   "language": "python",
   "name": "python3"
  },
  "language_info": {
   "codemirror_mode": {
    "name": "ipython",
    "version": 3
   },
   "file_extension": ".py",
   "mimetype": "text/x-python",
   "name": "python",
   "nbconvert_exporter": "python",
   "pygments_lexer": "ipython3",
   "version": "3.10.0"
  }
 },
 "nbformat": 4,
 "nbformat_minor": 5
}
