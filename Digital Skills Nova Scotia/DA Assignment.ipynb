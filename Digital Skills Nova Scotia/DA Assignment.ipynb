{
 "cells": [
  {
   "cell_type": "markdown",
   "id": "8f9ecd4a",
   "metadata": {},
   "source": [
    "# Question 1"
   ]
  },
  {
   "cell_type": "code",
   "execution_count": 1,
   "id": "77dee7fe",
   "metadata": {},
   "outputs": [],
   "source": [
    "import pandas as pd\n",
    "import matplotlib.pyplot as plt\n",
    "import seaborn as sns"
   ]
  },
  {
   "cell_type": "code",
   "execution_count": 2,
   "id": "c681acfe",
   "metadata": {},
   "outputs": [],
   "source": [
    "# Load the Titanic dataset into a pandas DataFrame\n",
    "titanic_df = pd.read_csv(\"titanic.csv\")"
   ]
  },
  {
   "cell_type": "code",
   "execution_count": 3,
   "id": "2b801a7b",
   "metadata": {},
   "outputs": [
    {
     "data": {
      "text/html": [
       "<div>\n",
       "<style scoped>\n",
       "    .dataframe tbody tr th:only-of-type {\n",
       "        vertical-align: middle;\n",
       "    }\n",
       "\n",
       "    .dataframe tbody tr th {\n",
       "        vertical-align: top;\n",
       "    }\n",
       "\n",
       "    .dataframe thead th {\n",
       "        text-align: right;\n",
       "    }\n",
       "</style>\n",
       "<table border=\"1\" class=\"dataframe\">\n",
       "  <thead>\n",
       "    <tr style=\"text-align: right;\">\n",
       "      <th></th>\n",
       "      <th>PassengerId</th>\n",
       "      <th>Survived</th>\n",
       "      <th>Pclass</th>\n",
       "      <th>Name</th>\n",
       "      <th>Sex</th>\n",
       "      <th>Age</th>\n",
       "      <th>Parch</th>\n",
       "      <th>Fare</th>\n",
       "      <th>Embarked</th>\n",
       "    </tr>\n",
       "  </thead>\n",
       "  <tbody>\n",
       "    <tr>\n",
       "      <th>0</th>\n",
       "      <td>1</td>\n",
       "      <td>0</td>\n",
       "      <td>3</td>\n",
       "      <td>Braund, Mr. Owen Harris</td>\n",
       "      <td>male</td>\n",
       "      <td>22.0</td>\n",
       "      <td>0</td>\n",
       "      <td>7.2500</td>\n",
       "      <td>S</td>\n",
       "    </tr>\n",
       "    <tr>\n",
       "      <th>1</th>\n",
       "      <td>2</td>\n",
       "      <td>1</td>\n",
       "      <td>1</td>\n",
       "      <td>Cumings, Mrs. John Bradley (Florence Briggs Th...</td>\n",
       "      <td>female</td>\n",
       "      <td>38.0</td>\n",
       "      <td>0</td>\n",
       "      <td>71.2833</td>\n",
       "      <td>C</td>\n",
       "    </tr>\n",
       "    <tr>\n",
       "      <th>2</th>\n",
       "      <td>3</td>\n",
       "      <td>1</td>\n",
       "      <td>3</td>\n",
       "      <td>Heikkinen, Miss. Laina</td>\n",
       "      <td>female</td>\n",
       "      <td>26.0</td>\n",
       "      <td>0</td>\n",
       "      <td>7.9250</td>\n",
       "      <td>S</td>\n",
       "    </tr>\n",
       "    <tr>\n",
       "      <th>3</th>\n",
       "      <td>4</td>\n",
       "      <td>1</td>\n",
       "      <td>1</td>\n",
       "      <td>Futrelle, Mrs. Jacques Heath (Lily May Peel)</td>\n",
       "      <td>female</td>\n",
       "      <td>35.0</td>\n",
       "      <td>0</td>\n",
       "      <td>53.1000</td>\n",
       "      <td>S</td>\n",
       "    </tr>\n",
       "    <tr>\n",
       "      <th>4</th>\n",
       "      <td>5</td>\n",
       "      <td>0</td>\n",
       "      <td>3</td>\n",
       "      <td>Allen, Mr. William Henry</td>\n",
       "      <td>male</td>\n",
       "      <td>35.0</td>\n",
       "      <td>0</td>\n",
       "      <td>8.0500</td>\n",
       "      <td>S</td>\n",
       "    </tr>\n",
       "  </tbody>\n",
       "</table>\n",
       "</div>"
      ],
      "text/plain": [
       "   PassengerId  Survived  Pclass  \\\n",
       "0            1         0       3   \n",
       "1            2         1       1   \n",
       "2            3         1       3   \n",
       "3            4         1       1   \n",
       "4            5         0       3   \n",
       "\n",
       "                                                Name     Sex   Age  Parch  \\\n",
       "0                            Braund, Mr. Owen Harris    male  22.0      0   \n",
       "1  Cumings, Mrs. John Bradley (Florence Briggs Th...  female  38.0      0   \n",
       "2                             Heikkinen, Miss. Laina  female  26.0      0   \n",
       "3       Futrelle, Mrs. Jacques Heath (Lily May Peel)  female  35.0      0   \n",
       "4                           Allen, Mr. William Henry    male  35.0      0   \n",
       "\n",
       "      Fare Embarked  \n",
       "0   7.2500        S  \n",
       "1  71.2833        C  \n",
       "2   7.9250        S  \n",
       "3  53.1000        S  \n",
       "4   8.0500        S  "
      ]
     },
     "execution_count": 3,
     "metadata": {},
     "output_type": "execute_result"
    }
   ],
   "source": [
    "# Explore the first few rows of the dataset to understand its structure\n",
    "titanic_df.head()"
   ]
  },
  {
   "cell_type": "code",
   "execution_count": 4,
   "id": "d719df01",
   "metadata": {},
   "outputs": [
    {
     "data": {
      "text/html": [
       "<div>\n",
       "<style scoped>\n",
       "    .dataframe tbody tr th:only-of-type {\n",
       "        vertical-align: middle;\n",
       "    }\n",
       "\n",
       "    .dataframe tbody tr th {\n",
       "        vertical-align: top;\n",
       "    }\n",
       "\n",
       "    .dataframe thead th {\n",
       "        text-align: right;\n",
       "    }\n",
       "</style>\n",
       "<table border=\"1\" class=\"dataframe\">\n",
       "  <thead>\n",
       "    <tr style=\"text-align: right;\">\n",
       "      <th></th>\n",
       "      <th>PassengerId</th>\n",
       "      <th>Survived</th>\n",
       "      <th>Pclass</th>\n",
       "      <th>Age</th>\n",
       "      <th>Parch</th>\n",
       "      <th>Fare</th>\n",
       "    </tr>\n",
       "  </thead>\n",
       "  <tbody>\n",
       "    <tr>\n",
       "      <th>count</th>\n",
       "      <td>891.000000</td>\n",
       "      <td>891.000000</td>\n",
       "      <td>891.000000</td>\n",
       "      <td>714.000000</td>\n",
       "      <td>891.000000</td>\n",
       "      <td>891.000000</td>\n",
       "    </tr>\n",
       "    <tr>\n",
       "      <th>mean</th>\n",
       "      <td>446.000000</td>\n",
       "      <td>0.383838</td>\n",
       "      <td>2.308642</td>\n",
       "      <td>29.699118</td>\n",
       "      <td>0.381594</td>\n",
       "      <td>32.204208</td>\n",
       "    </tr>\n",
       "    <tr>\n",
       "      <th>std</th>\n",
       "      <td>257.353842</td>\n",
       "      <td>0.486592</td>\n",
       "      <td>0.836071</td>\n",
       "      <td>14.526497</td>\n",
       "      <td>0.806057</td>\n",
       "      <td>49.693429</td>\n",
       "    </tr>\n",
       "    <tr>\n",
       "      <th>min</th>\n",
       "      <td>1.000000</td>\n",
       "      <td>0.000000</td>\n",
       "      <td>1.000000</td>\n",
       "      <td>0.420000</td>\n",
       "      <td>0.000000</td>\n",
       "      <td>0.000000</td>\n",
       "    </tr>\n",
       "    <tr>\n",
       "      <th>25%</th>\n",
       "      <td>223.500000</td>\n",
       "      <td>0.000000</td>\n",
       "      <td>2.000000</td>\n",
       "      <td>20.125000</td>\n",
       "      <td>0.000000</td>\n",
       "      <td>7.910400</td>\n",
       "    </tr>\n",
       "    <tr>\n",
       "      <th>50%</th>\n",
       "      <td>446.000000</td>\n",
       "      <td>0.000000</td>\n",
       "      <td>3.000000</td>\n",
       "      <td>28.000000</td>\n",
       "      <td>0.000000</td>\n",
       "      <td>14.454200</td>\n",
       "    </tr>\n",
       "    <tr>\n",
       "      <th>75%</th>\n",
       "      <td>668.500000</td>\n",
       "      <td>1.000000</td>\n",
       "      <td>3.000000</td>\n",
       "      <td>38.000000</td>\n",
       "      <td>0.000000</td>\n",
       "      <td>31.000000</td>\n",
       "    </tr>\n",
       "    <tr>\n",
       "      <th>max</th>\n",
       "      <td>891.000000</td>\n",
       "      <td>1.000000</td>\n",
       "      <td>3.000000</td>\n",
       "      <td>80.000000</td>\n",
       "      <td>6.000000</td>\n",
       "      <td>512.329200</td>\n",
       "    </tr>\n",
       "  </tbody>\n",
       "</table>\n",
       "</div>"
      ],
      "text/plain": [
       "       PassengerId    Survived      Pclass         Age       Parch        Fare\n",
       "count   891.000000  891.000000  891.000000  714.000000  891.000000  891.000000\n",
       "mean    446.000000    0.383838    2.308642   29.699118    0.381594   32.204208\n",
       "std     257.353842    0.486592    0.836071   14.526497    0.806057   49.693429\n",
       "min       1.000000    0.000000    1.000000    0.420000    0.000000    0.000000\n",
       "25%     223.500000    0.000000    2.000000   20.125000    0.000000    7.910400\n",
       "50%     446.000000    0.000000    3.000000   28.000000    0.000000   14.454200\n",
       "75%     668.500000    1.000000    3.000000   38.000000    0.000000   31.000000\n",
       "max     891.000000    1.000000    3.000000   80.000000    6.000000  512.329200"
      ]
     },
     "execution_count": 4,
     "metadata": {},
     "output_type": "execute_result"
    }
   ],
   "source": [
    "# Calculate and visualise the basic statistics (mean, median, etc) for the numeric columns\n",
    "numeric_stats = titanic_df.describe()\n",
    "numeric_stats"
   ]
  },
  {
   "cell_type": "code",
   "execution_count": 9,
   "id": "9325d5e5",
   "metadata": {},
   "outputs": [
    {
     "data": {
      "image/png": "[encoded data removed]",
      "text/plain": [
       "<Figure size 432x288 with 1 Axes>"
      ]
     },
     "metadata": {
      "needs_background": "light"
     },
     "output_type": "display_data"
    }
   ],
   "source": [
    "# Create a bar chart to show the distribution of passengers by class \n",
    "sns.countplot(data=titanic_df, x=titanic_df['Pclass'])\n",
    "plt.title('Distribution of Passengers by Class')\n",
    "plt.xlabel('Passenger Class')\n",
    "plt.ylabel('Count')\n",
    "plt.show() "
   ]
  },
  {
   "cell_type": "code",
   "execution_count": 10,
   "id": "52c12805",
   "metadata": {},
   "outputs": [
    {
     "data": {
      "image/png": "[encoded data removed]",
      "text/plain": [
       "<Figure size 720x432 with 1 Axes>"
      ]
     },
     "metadata": {
      "needs_background": "light"
     },
     "output_type": "display_data"
    }
   ],
   "source": [
    "# Create a histogram to visualise the age distribution of passengers\n",
    "plt.figure(figsize=(10, 6))\n",
    "sns.histplot(titanic_df['Age'], bins=30, kde=True, color='skyblue')\n",
    "plt.title('Age Distribution of Passengers')\n",
    "plt.xlabel('Age')\n",
    "plt.ylabel('Count')\n",
    "plt.show()"
   ]
  },
  {
   "cell_type": "code",
   "execution_count": 16,
   "id": "fd30069e",
   "metadata": {},
   "outputs": [
    {
     "data": {
      "image/png": "[encoded data removed]",
      "text/plain": [
       "<Figure size 576x432 with 1 Axes>"
      ]
     },
     "metadata": {},
     "output_type": "display_data"
    }
   ],
   "source": [
    "# Calculate and visualise the survival rate of passengers. Create a pie chart to represent this information\n",
    "survival_counts = titanic_df['Survived'].value_counts()\n",
    "\n",
    "# Plotting\n",
    "labels = ['Not Survived', 'Survived']\n",
    "colors = ['#ff9999','#66b2ff']\n",
    "plt.figure(figsize=(8, 6))\n",
    "plt.pie(survival_counts, labels=labels, colors=colors, autopct='%1.1f%%', startangle=140, shadow=True, explode=(0.1, 0.1))\n",
    "plt.title('Survival Rate of Passengers')\n",
    "plt.show()"
   ]
  },
  {
   "cell_type": "code",
   "execution_count": 12,
   "id": "758924d7",
   "metadata": {},
   "outputs": [
    {
     "data": {
      "image/png": "[encoded data removed]",
      "text/plain": [
       "<Figure size 576x432 with 1 Axes>"
      ]
     },
     "metadata": {
      "needs_background": "light"
     },
     "output_type": "display_data"
    }
   ],
   "source": [
    "# Create a bar chart to show the count of passengers by gender\n",
    "plt.figure(figsize=(8, 6))\n",
    "sns.countplot(data=titanic_df, x='Sex', palette=\"Pastel1\")\n",
    "plt.title('Count of Passengers by Gender')\n",
    "plt.xlabel('Gender')\n",
    "plt.ylabel('Count')\n",
    "plt.show()"
   ]
  },
  {
   "cell_type": "code",
   "execution_count": 13,
   "id": "a986d63f",
   "metadata": {},
   "outputs": [
    {
     "data": {
      "image/png": "[encoded data removed]",
      "text/plain": [
       "<Figure size 576x432 with 1 Axes>"
      ]
     },
     "metadata": {
      "needs_background": "light"
     },
     "output_type": "display_data"
    }
   ],
   "source": [
    "# Create a stacked bar chart to visualise the survival rate by gender. Explain any gender-based differences in survival\n",
    "gender_survival = titanic_df.groupby(['Sex', 'Survived']).size().unstack()\n",
    "\n",
    "# Plotting\n",
    "gender_survival.plot(kind='bar', stacked=True, figsize=(8, 6), colormap=\"Pastel1\")\n",
    "plt.title('Survival Rate by Gender')\n",
    "plt.xlabel('Gender')\n",
    "plt.ylabel('Count')\n",
    "plt.legend(title='Survived', labels=['No', 'Yes'])\n",
    "plt.show()"
   ]
  },
  {
   "cell_type": "markdown",
   "id": "510f120a",
   "metadata": {},
   "source": [
    "The stacked bar chart visualizes the survival rate by gender:\n",
    "* A significant proportion of female passengers survived compared to their male counterparts.\n",
    "* For male passengers, a large majority did not survive.\n",
    "\n",
    "Historically, it's known that there was a \"women and children first\" policy for lifeboat boarding, which could explain the higher survival rate for females. This observation aligns with this policy, as female passengers had a much higher chance of survival compared to male passengers."
   ]
  },
  {
   "cell_type": "code",
   "execution_count": 14,
   "id": "2325d246",
   "metadata": {},
   "outputs": [
    {
     "data": {
      "image/png": "[encoded data removed]",
      "text/plain": [
       "<Figure size 576x432 with 1 Axes>"
      ]
     },
     "metadata": {
      "needs_background": "light"
     },
     "output_type": "display_data"
    }
   ],
   "source": [
    "# Create a count plot (bar chart) to show the number of passengers who embarked from each location (S, C, Q)\n",
    "plt.figure(figsize=(8, 6))\n",
    "sns.countplot(data=titanic_df, x='Embarked', palette=\"viridis\")\n",
    "plt.title('Number of Passengers by Embarkation Point')\n",
    "plt.xlabel('Embarkation Point')\n",
    "plt.ylabel('Count')\n",
    "plt.show()"
   ]
  },
  {
   "cell_type": "markdown",
   "id": "4b5dcde9",
   "metadata": {},
   "source": [
    "The bar chart showcases the number of passengers by their embarkation point:\n",
    "* S (Southampton): The majority of passengers embarked from Southampton.\n",
    "* C (Cherbourg): A significant number of passengers embarked from Cherbourg, but less than Southampton.\n",
    "* Q (Queenstown): The fewest passengers embarked from Queenstown compared to the other two points."
   ]
  },
  {
   "cell_type": "code",
   "execution_count": 15,
   "id": "103284bb",
   "metadata": {},
   "outputs": [
    {
     "data": {
      "image/png": "[encoded data removed]",
      "text/plain": [
       "<Figure size 720x432 with 1 Axes>"
      ]
     },
     "metadata": {
      "needs_background": "light"
     },
     "output_type": "display_data"
    }
   ],
   "source": [
    "#  Create a box plot to visualise the distribution of family sizes among passengers\n",
    "# Calculate family size by adding the 'Parch' (parents/children) column to itself (since each row represents one passenger)\n",
    "titanic_df['FamilySize'] = titanic_df['Parch'] + 1\n",
    "\n",
    "# Create a box plot for the distribution of family sizes\n",
    "plt.figure(figsize=(10, 6))\n",
    "sns.boxplot(y=titanic_df['FamilySize'], color='lightseagreen')\n",
    "plt.title('Distribution of Family Sizes Among Passengers', fontsize=15)\n",
    "plt.ylabel('Family Size', fontsize=12)\n",
    "plt.show()"
   ]
  },
  {
   "cell_type": "code",
   "execution_count": 17,
   "id": "eb4b98bc",
   "metadata": {},
   "outputs": [
    {
     "data": {
      "image/png": "[encoded data removed]",
      "text/plain": [
       "<Figure size 864x504 with 1 Axes>"
      ]
     },
     "metadata": {
      "needs_background": "light"
     },
     "output_type": "display_data"
    }
   ],
   "source": [
    "# Create a scatter plot to visualise the relationship between fare and age\n",
    "# Scatter plot for the relationship between fare and age\n",
    "plt.figure(figsize=(12, 7))\n",
    "sns.scatterplot(x=titanic_df['Age'], y=titanic_df['Fare'], hue=titanic_df['Sex'], palette='Pastel1', alpha=0.6)\n",
    "plt.title('Relationship Between Fare and Age')\n",
    "plt.xlabel('Age')\n",
    "plt.ylabel('Fare')\n",
    "plt.legend(title='Gender')\n",
    "plt.show()"
   ]
  },
  {
   "cell_type": "markdown",
   "id": "7673def8",
   "metadata": {},
   "source": [
    "* There isn't a strong linear relationship between age and fare. This means that fare doesn't necessarily increase or decrease with age.\n",
    "* Most passengers, regardless of age, paid lower fares, as indicated by the dense concentration of points near the bottom of the plot.\n",
    "* There are some passengers (across various age groups) who paid significantly higher fares, as indicated by the points higher up on the y-axis.\n",
    "* The hue differentiation based on gender shows that both males and females are spread across the age and fare spectrum."
   ]
  },
  {
   "cell_type": "markdown",
   "id": "e34e06b7",
   "metadata": {},
   "source": [
    "# Q2 - Sentiment Analysis"
   ]
  },
  {
   "cell_type": "markdown",
   "id": "28649541",
   "metadata": {},
   "source": [
    "## Data Loading"
   ]
  },
  {
   "cell_type": "code",
   "execution_count": 18,
   "id": "731fee19",
   "metadata": {},
   "outputs": [],
   "source": [
    "# Load the dataset\n",
    "df = pd.read_csv(\"Corona_NLP.csv\")"
   ]
  },
  {
   "cell_type": "code",
   "execution_count": 19,
   "id": "9dc7e4b1",
   "metadata": {},
   "outputs": [
    {
     "data": {
      "text/html": [
       "<div>\n",
       "<style scoped>\n",
       "    .dataframe tbody tr th:only-of-type {\n",
       "        vertical-align: middle;\n",
       "    }\n",
       "\n",
       "    .dataframe tbody tr th {\n",
       "        vertical-align: top;\n",
       "    }\n",
       "\n",
       "    .dataframe thead th {\n",
       "        text-align: right;\n",
       "    }\n",
       "</style>\n",
       "<table border=\"1\" class=\"dataframe\">\n",
       "  <thead>\n",
       "    <tr style=\"text-align: right;\">\n",
       "      <th></th>\n",
       "      <th>UserName</th>\n",
       "      <th>ScreenName</th>\n",
       "      <th>Location</th>\n",
       "      <th>TweetAt</th>\n",
       "      <th>OriginalTweet</th>\n",
       "      <th>Sentiment</th>\n",
       "    </tr>\n",
       "  </thead>\n",
       "  <tbody>\n",
       "    <tr>\n",
       "      <th>44948</th>\n",
       "      <td>3789.0</td>\n",
       "      <td>48741</td>\n",
       "      <td>Pakistan</td>\n",
       "      <td>16-03-2020</td>\n",
       "      <td>You never eaten the pigs cat dog or food from ...</td>\n",
       "      <td>Neutral</td>\n",
       "    </tr>\n",
       "    <tr>\n",
       "      <th>44949</th>\n",
       "      <td>3790.0</td>\n",
       "      <td>48742</td>\n",
       "      <td>California, USA</td>\n",
       "      <td>16-03-2020</td>\n",
       "      <td>@calebmealer @thebradfordfile @realDonaldTrump...</td>\n",
       "      <td>Extremely Positive</td>\n",
       "    </tr>\n",
       "    <tr>\n",
       "      <th>44950</th>\n",
       "      <td>3791.0</td>\n",
       "      <td>48743</td>\n",
       "      <td>Cincinnati, Ohio</td>\n",
       "      <td>16-03-2020</td>\n",
       "      <td>Even though the Law Library is closed, ALL sub...</td>\n",
       "      <td>Positive</td>\n",
       "    </tr>\n",
       "    <tr>\n",
       "      <th>44951</th>\n",
       "      <td>3792.0</td>\n",
       "      <td>48744</td>\n",
       "      <td>Washington D.C.</td>\n",
       "      <td>16-03-2020</td>\n",
       "      <td>With Gov Hogan's announcement that all bars, r...</td>\n",
       "      <td>Extremely Negative</td>\n",
       "    </tr>\n",
       "    <tr>\n",
       "      <th>44952</th>\n",
       "      <td>3793.0</td>\n",
       "      <td>48745</td>\n",
       "      <td>Washington D.C.</td>\n",
       "      <td>16-03-2020</td>\n",
       "      <td>@RicePolitics @MDCounties Craig, will you call...</td>\n",
       "      <td>Negative</td>\n",
       "    </tr>\n",
       "    <tr>\n",
       "      <th>44953</th>\n",
       "      <td>3794.0</td>\n",
       "      <td>48746</td>\n",
       "      <td>Israel ??</td>\n",
       "      <td>16-03-2020</td>\n",
       "      <td>Meanwhile In A Supermarket in Israel -- People...</td>\n",
       "      <td>Positive</td>\n",
       "    </tr>\n",
       "    <tr>\n",
       "      <th>44954</th>\n",
       "      <td>3795.0</td>\n",
       "      <td>48747</td>\n",
       "      <td>Farmington, NM</td>\n",
       "      <td>16-03-2020</td>\n",
       "      <td>Did you panic buy a lot of non-perishable item...</td>\n",
       "      <td>Negative</td>\n",
       "    </tr>\n",
       "    <tr>\n",
       "      <th>44955</th>\n",
       "      <td>3796.0</td>\n",
       "      <td>48748</td>\n",
       "      <td>Haverford, PA</td>\n",
       "      <td>16-03-2020</td>\n",
       "      <td>Asst Prof of Economics @cconces was on @NBCPhi...</td>\n",
       "      <td>Neutral</td>\n",
       "    </tr>\n",
       "    <tr>\n",
       "      <th>44956</th>\n",
       "      <td>3797.0</td>\n",
       "      <td>48749</td>\n",
       "      <td>NaN</td>\n",
       "      <td>16-03-2020</td>\n",
       "      <td>Gov need to do somethings instead of biar je r...</td>\n",
       "      <td>Extremely Negative</td>\n",
       "    </tr>\n",
       "    <tr>\n",
       "      <th>44957</th>\n",
       "      <td>3798.0</td>\n",
       "      <td>48750</td>\n",
       "      <td>Arlington, Virginia</td>\n",
       "      <td>16-03-2020</td>\n",
       "      <td>I and @ForestandPaper members are committed to...</td>\n",
       "      <td>Extremely Positive</td>\n",
       "    </tr>\n",
       "  </tbody>\n",
       "</table>\n",
       "</div>"
      ],
      "text/plain": [
       "       UserName ScreenName             Location     TweetAt  \\\n",
       "44948    3789.0      48741             Pakistan  16-03-2020   \n",
       "44949    3790.0      48742      California, USA  16-03-2020   \n",
       "44950    3791.0      48743     Cincinnati, Ohio  16-03-2020   \n",
       "44951    3792.0      48744      Washington D.C.  16-03-2020   \n",
       "44952    3793.0      48745      Washington D.C.  16-03-2020   \n",
       "44953    3794.0      48746            Israel ??  16-03-2020   \n",
       "44954    3795.0      48747       Farmington, NM  16-03-2020   \n",
       "44955    3796.0      48748        Haverford, PA  16-03-2020   \n",
       "44956    3797.0      48749                  NaN  16-03-2020   \n",
       "44957    3798.0      48750  Arlington, Virginia  16-03-2020   \n",
       "\n",
       "                                           OriginalTweet           Sentiment  \n",
       "44948  You never eaten the pigs cat dog or food from ...             Neutral  \n",
       "44949  @calebmealer @thebradfordfile @realDonaldTrump...  Extremely Positive  \n",
       "44950  Even though the Law Library is closed, ALL sub...            Positive  \n",
       "44951  With Gov Hogan's announcement that all bars, r...  Extremely Negative  \n",
       "44952  @RicePolitics @MDCounties Craig, will you call...            Negative  \n",
       "44953  Meanwhile In A Supermarket in Israel -- People...            Positive  \n",
       "44954  Did you panic buy a lot of non-perishable item...            Negative  \n",
       "44955  Asst Prof of Economics @cconces was on @NBCPhi...             Neutral  \n",
       "44956  Gov need to do somethings instead of biar je r...  Extremely Negative  \n",
       "44957  I and @ForestandPaper members are committed to...  Extremely Positive  "
      ]
     },
     "execution_count": 19,
     "metadata": {},
     "output_type": "execute_result"
    }
   ],
   "source": [
    "# Show the last 10 rows of the dataframe \n",
    "df.tail(10)"
   ]
  },
  {
   "cell_type": "markdown",
   "id": "a7c8e1ab",
   "metadata": {},
   "source": [
    "## Manipulation and Visualisations"
   ]
  },
  {
   "cell_type": "code",
   "execution_count": 20,
   "id": "9cb1f854",
   "metadata": {},
   "outputs": [
    {
     "data": {
      "text/plain": [
       "1"
      ]
     },
     "execution_count": 20,
     "metadata": {},
     "output_type": "execute_result"
    }
   ],
   "source": [
    "#  Check if there are any duplicate rows. If there are any, remove the duplicates\n",
    "# Check and remove duplicate rows\n",
    "initial_rows = len(df)\n",
    "df.drop_duplicates(inplace=True)\n",
    "remaining_rows = len(df)\n",
    "\n",
    "# Calculate number of duplicates removed\n",
    "duplicates_removed = initial_rows - remaining_rows\n",
    "duplicates_removed"
   ]
  },
  {
   "cell_type": "code",
   "execution_count": 21,
   "id": "501662e0",
   "metadata": {},
   "outputs": [
    {
     "data": {
      "text/plain": [
       "United States      603\n",
       "London, England    568\n",
       "London             565\n",
       "New York, NY       429\n",
       "Washington, DC     411\n",
       "United Kingdom     355\n",
       "Los Angeles, CA    314\n",
       "India              283\n",
       "UK                 246\n",
       "USA                243\n",
       "Name: Location, dtype: int64"
      ]
     },
     "execution_count": 21,
     "metadata": {},
     "output_type": "execute_result"
    }
   ],
   "source": [
    "# (a) In the Location column, find unique values and their corresponding frequencies (number of times they appear) \n",
    "# (b) Sort the values in descending order.\n",
    "# (c) Using a bar chart, visualise your results for the top 20 locations\n",
    "location_frequencies = df['Location'].value_counts()\n",
    "location_frequencies.head(10)  # Display top 10 for preview"
   ]
  },
  {
   "cell_type": "code",
   "execution_count": 23,
   "id": "f2896bc9",
   "metadata": {},
   "outputs": [
    {
     "data": {
      "image/png": "[encoded data removed]",
      "text/plain": [
       "<Figure size 864x576 with 1 Axes>"
      ]
     },
     "metadata": {
      "needs_background": "light"
     },
     "output_type": "display_data"
    }
   ],
   "source": [
    "plt.figure(figsize=(12, 8))\n",
    "location_frequencies.head(20).plot(kind='bar', color='skyblue')\n",
    "plt.title('Top 20 Locations with Most Tweets')\n",
    "plt.xlabel('Location')\n",
    "plt.ylabel('Number of Tweets')\n",
    "plt.xticks(rotation=90)\n",
    "plt.tight_layout()\n",
    "plt.show()"
   ]
  },
  {
   "cell_type": "code",
   "execution_count": 24,
   "id": "4ff0d57d",
   "metadata": {},
   "outputs": [
    {
     "data": {
      "image/png": "[encoded data removed]",
      "text/plain": [
       "<Figure size 720x504 with 1 Axes>"
      ]
     },
     "metadata": {
      "needs_background": "light"
     },
     "output_type": "display_data"
    }
   ],
   "source": [
    "# You will see that Sentiment can take 5 values: \"Extremely Negative\", \"Negative\", \"Neutral\", \"Positive\", \n",
    "# \"Extremely Positive\". Using an appropriate color palette and an\n",
    "# appropriate type of graph, visualise how Sentiment is distributed\n",
    "# Get the sentiment distribution\n",
    "sentiment_distribution = df['Sentiment'].value_counts()\n",
    "\n",
    "# Plot the sentiment distribution\n",
    "colors = ['#FF9999', '#66B2FF', '#99FF99', '#FFCC99', '#FFD700']\n",
    "plt.figure(figsize=(10, 7))\n",
    "sentiment_distribution.plot(kind='bar', color=colors)\n",
    "plt.title('Distribution of Sentiment')\n",
    "plt.xlabel('Sentiment')\n",
    "plt.ylabel('Number of Tweets')\n",
    "plt.xticks(rotation=45)\n",
    "plt.tight_layout()\n",
    "plt.show()"
   ]
  },
  {
   "cell_type": "code",
   "execution_count": 25,
   "id": "f8d9053b",
   "metadata": {},
   "outputs": [
    {
     "data": {
      "text/plain": [
       "Positive    19592\n",
       "Negative    17031\n",
       "Neutral      8330\n",
       "Name: Sentiment, dtype: int64"
      ]
     },
     "execution_count": 25,
     "metadata": {},
     "output_type": "execute_result"
    }
   ],
   "source": [
    "# Change the labels of part of the data, combining \"Extremely Negative\" and \"Negative\" into “Negative” and \"Positive\" and \"Extremely Positive\" into positive\n",
    "# Combine the labels\n",
    "df['Sentiment'] = df['Sentiment'].replace({\"Extremely Negative\": \"Negative\", \"Extremely Positive\": \"Positive\"})\n",
    "\n",
    "# Display the updated distribution of sentiments\n",
    "updated_sentiment_distribution = df['Sentiment'].value_counts()\n",
    "updated_sentiment_distribution"
   ]
  },
  {
   "cell_type": "markdown",
   "id": "2e2e0ab9",
   "metadata": {},
   "source": [
    "## Cleaning"
   ]
  },
  {
   "cell_type": "code",
   "execution_count": 27,
   "id": "1a6be20e",
   "metadata": {},
   "outputs": [
    {
     "data": {
      "text/plain": [
       "2"
      ]
     },
     "execution_count": 27,
     "metadata": {},
     "output_type": "execute_result"
    }
   ],
   "source": [
    "# check for null\n",
    "df['OriginalTweet'].isnull().sum()"
   ]
  },
  {
   "cell_type": "code",
   "execution_count": 29,
   "id": "c8154a18",
   "metadata": {},
   "outputs": [],
   "source": [
    "df['OriginalTweet'] = df['OriginalTweet'].fillna(\"\")"
   ]
  },
  {
   "cell_type": "code",
   "execution_count": 30,
   "id": "50d6191c",
   "metadata": {},
   "outputs": [
    {
     "data": {
      "text/plain": [
       "0"
      ]
     },
     "execution_count": 30,
     "metadata": {},
     "output_type": "execute_result"
    }
   ],
   "source": [
    "df['OriginalTweet'].isnull().sum()"
   ]
  },
  {
   "cell_type": "code",
   "execution_count": 31,
   "id": "94022973",
   "metadata": {},
   "outputs": [],
   "source": [
    "# Remove hyperlinks, hashtags and Replace \\n and \\r with an empty space\n",
    "import re\n",
    "\n",
    "def clean_text(tweet):\n",
    "    # 1. Remove hyperlinks\n",
    "    tweet = re.sub(r'http\\S+', '', tweet)\n",
    "    \n",
    "    # 2. Remove hashtags\n",
    "    tweet = re.sub(r'#\\S+', '', tweet)\n",
    "    \n",
    "    # 3. Replace \\n and \\r with an empty space\n",
    "    tweet = tweet.replace('\\n', ' ').replace('\\r', ' ')\n",
    "    \n",
    "    return tweet"
   ]
  },
  {
   "cell_type": "code",
   "execution_count": 32,
   "id": "fbaa8860",
   "metadata": {},
   "outputs": [
    {
     "data": {
      "text/html": [
       "<div>\n",
       "<style scoped>\n",
       "    .dataframe tbody tr th:only-of-type {\n",
       "        vertical-align: middle;\n",
       "    }\n",
       "\n",
       "    .dataframe tbody tr th {\n",
       "        vertical-align: top;\n",
       "    }\n",
       "\n",
       "    .dataframe thead th {\n",
       "        text-align: right;\n",
       "    }\n",
       "</style>\n",
       "<table border=\"1\" class=\"dataframe\">\n",
       "  <thead>\n",
       "    <tr style=\"text-align: right;\">\n",
       "      <th></th>\n",
       "      <th>OriginalTweet</th>\n",
       "      <th>Tweet</th>\n",
       "    </tr>\n",
       "  </thead>\n",
       "  <tbody>\n",
       "    <tr>\n",
       "      <th>0</th>\n",
       "      <td>@MeNyrbie @Phil_Gahan @Chrisitv https://t.co/i...</td>\n",
       "      <td>@MeNyrbie @Phil_Gahan @Chrisitv  and  and</td>\n",
       "    </tr>\n",
       "    <tr>\n",
       "      <th>1</th>\n",
       "      <td>advice Talk to your neighbours family to excha...</td>\n",
       "      <td>advice Talk to your neighbours family to excha...</td>\n",
       "    </tr>\n",
       "    <tr>\n",
       "      <th>2</th>\n",
       "      <td>Coronavirus Australia: Woolworths to give elde...</td>\n",
       "      <td>Coronavirus Australia: Woolworths to give elde...</td>\n",
       "    </tr>\n",
       "    <tr>\n",
       "      <th>3</th>\n",
       "      <td>My food stock is not the only one which is emp...</td>\n",
       "      <td>My food stock is not the only one which is emp...</td>\n",
       "    </tr>\n",
       "    <tr>\n",
       "      <th>4</th>\n",
       "      <td>Me, ready to go at supermarket during the #COV...</td>\n",
       "      <td>Me, ready to go at supermarket during the  out...</td>\n",
       "    </tr>\n",
       "  </tbody>\n",
       "</table>\n",
       "</div>"
      ],
      "text/plain": [
       "                                       OriginalTweet  \\\n",
       "0  @MeNyrbie @Phil_Gahan @Chrisitv https://t.co/i...   \n",
       "1  advice Talk to your neighbours family to excha...   \n",
       "2  Coronavirus Australia: Woolworths to give elde...   \n",
       "3  My food stock is not the only one which is emp...   \n",
       "4  Me, ready to go at supermarket during the #COV...   \n",
       "\n",
       "                                               Tweet  \n",
       "0         @MeNyrbie @Phil_Gahan @Chrisitv  and  and   \n",
       "1  advice Talk to your neighbours family to excha...  \n",
       "2  Coronavirus Australia: Woolworths to give elde...  \n",
       "3  My food stock is not the only one which is emp...  \n",
       "4  Me, ready to go at supermarket during the  out...  "
      ]
     },
     "execution_count": 32,
     "metadata": {},
     "output_type": "execute_result"
    }
   ],
   "source": [
    "# Apply the function to the 'OriginalTweet' column\n",
    "df['Tweet'] = df['OriginalTweet'].apply(clean_text)\n",
    "\n",
    "# Display the first few rows to verify the changes\n",
    "df[['OriginalTweet', 'Tweet']].head()"
   ]
  },
  {
   "cell_type": "code",
   "execution_count": 34,
   "id": "3dfe1c4d",
   "metadata": {},
   "outputs": [],
   "source": [
    "# Using TweetTokenizer in nltk.tokenize, perform tokenization.\n",
    "# In the same function, remove stopwords and punctuation signs\n",
    "import string\n",
    "import nltk\n",
    "from nltk.corpus import stopwords\n",
    "from nltk.stem import PorterStemmer\n",
    "from nltk.tokenize import TweetTokenizer\n",
    "\n",
    "# subpart 4 and 5\n",
    "def tokenizing(tweet):\n",
    "    #nltk.download()\n",
    "\n",
    "    stopwords_english = stopwords.words('english')\n",
    "\n",
    "    # 1 mark\n",
    "    tokenizer =  TweetTokenizer() # create an instance of the toke\n",
    "    new_tweet = tokenizer.tokenize(tweet) # tokenize the tweet\n",
    "    \n",
    "    clean_tweet = []\n",
    "\n",
    "   # 1 mark\n",
    "    for element in new_tweet:  # Going through every word in tokens list\n",
    "        # our goal is to remove punctuation and stopwords\n",
    "        # If the element is not a stopword or a punctuation sign, add it to clean_tweet\n",
    "        if element.lower() not in stopwords_english and element not in string.punctuation:\n",
    "            clean_tweet.append(element)\n",
    "\n",
    "    \n",
    "\n",
    "\n",
    "    return clean_tweet"
   ]
  },
  {
   "cell_type": "code",
   "execution_count": 35,
   "id": "9bf1f35a",
   "metadata": {},
   "outputs": [],
   "source": [
    "df['Tweet'] = df['Tweet'].apply(tokenizing)"
   ]
  },
  {
   "cell_type": "code",
   "execution_count": 36,
   "id": "aac24ca6",
   "metadata": {},
   "outputs": [
    {
     "data": {
      "text/html": [
       "<div>\n",
       "<style scoped>\n",
       "    .dataframe tbody tr th:only-of-type {\n",
       "        vertical-align: middle;\n",
       "    }\n",
       "\n",
       "    .dataframe tbody tr th {\n",
       "        vertical-align: top;\n",
       "    }\n",
       "\n",
       "    .dataframe thead th {\n",
       "        text-align: right;\n",
       "    }\n",
       "</style>\n",
       "<table border=\"1\" class=\"dataframe\">\n",
       "  <thead>\n",
       "    <tr style=\"text-align: right;\">\n",
       "      <th></th>\n",
       "      <th>UserName</th>\n",
       "      <th>ScreenName</th>\n",
       "      <th>Location</th>\n",
       "      <th>TweetAt</th>\n",
       "      <th>OriginalTweet</th>\n",
       "      <th>Sentiment</th>\n",
       "      <th>Tweet</th>\n",
       "    </tr>\n",
       "  </thead>\n",
       "  <tbody>\n",
       "    <tr>\n",
       "      <th>0</th>\n",
       "      <td>3799.0</td>\n",
       "      <td>48751</td>\n",
       "      <td>London</td>\n",
       "      <td>16-03-2020</td>\n",
       "      <td>@MeNyrbie @Phil_Gahan @Chrisitv https://t.co/i...</td>\n",
       "      <td>Neutral</td>\n",
       "      <td>[@MeNyrbie, @Phil_Gahan, @Chrisitv]</td>\n",
       "    </tr>\n",
       "    <tr>\n",
       "      <th>1</th>\n",
       "      <td>3800.0</td>\n",
       "      <td>48752</td>\n",
       "      <td>UK</td>\n",
       "      <td>16-03-2020</td>\n",
       "      <td>advice Talk to your neighbours family to excha...</td>\n",
       "      <td>Positive</td>\n",
       "      <td>[advice, Talk, neighbours, family, exchange, p...</td>\n",
       "    </tr>\n",
       "    <tr>\n",
       "      <th>2</th>\n",
       "      <td>3801.0</td>\n",
       "      <td>48753</td>\n",
       "      <td>Vagabonds</td>\n",
       "      <td>16-03-2020</td>\n",
       "      <td>Coronavirus Australia: Woolworths to give elde...</td>\n",
       "      <td>Positive</td>\n",
       "      <td>[Coronavirus, Australia, Woolworths, give, eld...</td>\n",
       "    </tr>\n",
       "    <tr>\n",
       "      <th>3</th>\n",
       "      <td>3802.0</td>\n",
       "      <td>48754</td>\n",
       "      <td>NaN</td>\n",
       "      <td>16-03-2020</td>\n",
       "      <td>My food stock is not the only one which is emp...</td>\n",
       "      <td>Positive</td>\n",
       "      <td>[food, stock, one, empty, ..., PLEASE, panic, ...</td>\n",
       "    </tr>\n",
       "    <tr>\n",
       "      <th>4</th>\n",
       "      <td>3803.0</td>\n",
       "      <td>48755</td>\n",
       "      <td>NaN</td>\n",
       "      <td>16-03-2020</td>\n",
       "      <td>Me, ready to go at supermarket during the #COV...</td>\n",
       "      <td>Negative</td>\n",
       "      <td>[ready, go, supermarket, outbreak, I'm, parano...</td>\n",
       "    </tr>\n",
       "  </tbody>\n",
       "</table>\n",
       "</div>"
      ],
      "text/plain": [
       "   UserName ScreenName   Location     TweetAt  \\\n",
       "0    3799.0      48751     London  16-03-2020   \n",
       "1    3800.0      48752         UK  16-03-2020   \n",
       "2    3801.0      48753  Vagabonds  16-03-2020   \n",
       "3    3802.0      48754        NaN  16-03-2020   \n",
       "4    3803.0      48755        NaN  16-03-2020   \n",
       "\n",
       "                                       OriginalTweet Sentiment  \\\n",
       "0  @MeNyrbie @Phil_Gahan @Chrisitv https://t.co/i...   Neutral   \n",
       "1  advice Talk to your neighbours family to excha...  Positive   \n",
       "2  Coronavirus Australia: Woolworths to give elde...  Positive   \n",
       "3  My food stock is not the only one which is emp...  Positive   \n",
       "4  Me, ready to go at supermarket during the #COV...  Negative   \n",
       "\n",
       "                                               Tweet  \n",
       "0                [@MeNyrbie, @Phil_Gahan, @Chrisitv]  \n",
       "1  [advice, Talk, neighbours, family, exchange, p...  \n",
       "2  [Coronavirus, Australia, Woolworths, give, eld...  \n",
       "3  [food, stock, one, empty, ..., PLEASE, panic, ...  \n",
       "4  [ready, go, supermarket, outbreak, I'm, parano...  "
      ]
     },
     "execution_count": 36,
     "metadata": {},
     "output_type": "execute_result"
    }
   ],
   "source": [
    "df.head()"
   ]
  },
  {
   "cell_type": "code",
   "execution_count": 37,
   "id": "a13e3ba5",
   "metadata": {},
   "outputs": [],
   "source": [
    "# Perform stemming using PorterStemmer in nltk.stem\n",
    "def stemming(tweet):\n",
    "    # Instantiate stemming class\n",
    "    stemmer = PorterStemmer()  # create an instance of a Porter stem\n",
    "\n",
    "    # Create an empty list to store the stems\n",
    "    stemmed_tweets = []\n",
    "\n",
    "    for word in tweet:\n",
    "        stem_word = stemmer.stem(word)  # stemming word\n",
    "        stemmed_tweets.append(stem_word)  # append to the list\n",
    "\n",
    "    return stemmed_tweets"
   ]
  },
  {
   "cell_type": "code",
   "execution_count": 38,
   "id": "c42d6b36",
   "metadata": {},
   "outputs": [
    {
     "data": {
      "text/html": [
       "<div>\n",
       "<style scoped>\n",
       "    .dataframe tbody tr th:only-of-type {\n",
       "        vertical-align: middle;\n",
       "    }\n",
       "\n",
       "    .dataframe tbody tr th {\n",
       "        vertical-align: top;\n",
       "    }\n",
       "\n",
       "    .dataframe thead th {\n",
       "        text-align: right;\n",
       "    }\n",
       "</style>\n",
       "<table border=\"1\" class=\"dataframe\">\n",
       "  <thead>\n",
       "    <tr style=\"text-align: right;\">\n",
       "      <th></th>\n",
       "      <th>OriginalTweet</th>\n",
       "      <th>Tweet</th>\n",
       "    </tr>\n",
       "  </thead>\n",
       "  <tbody>\n",
       "    <tr>\n",
       "      <th>0</th>\n",
       "      <td>@MeNyrbie @Phil_Gahan @Chrisitv https://t.co/i...</td>\n",
       "      <td>[@menyrbi, @phil_gahan, @chrisitv]</td>\n",
       "    </tr>\n",
       "    <tr>\n",
       "      <th>1</th>\n",
       "      <td>advice Talk to your neighbours family to excha...</td>\n",
       "      <td>[advic, talk, neighbour, famili, exchang, phon...</td>\n",
       "    </tr>\n",
       "    <tr>\n",
       "      <th>2</th>\n",
       "      <td>Coronavirus Australia: Woolworths to give elde...</td>\n",
       "      <td>[coronaviru, australia, woolworth, give, elder...</td>\n",
       "    </tr>\n",
       "    <tr>\n",
       "      <th>3</th>\n",
       "      <td>My food stock is not the only one which is emp...</td>\n",
       "      <td>[food, stock, one, empti, ..., pleas, panic, e...</td>\n",
       "    </tr>\n",
       "    <tr>\n",
       "      <th>4</th>\n",
       "      <td>Me, ready to go at supermarket during the #COV...</td>\n",
       "      <td>[readi, go, supermarket, outbreak, i'm, parano...</td>\n",
       "    </tr>\n",
       "  </tbody>\n",
       "</table>\n",
       "</div>"
      ],
      "text/plain": [
       "                                       OriginalTweet  \\\n",
       "0  @MeNyrbie @Phil_Gahan @Chrisitv https://t.co/i...   \n",
       "1  advice Talk to your neighbours family to excha...   \n",
       "2  Coronavirus Australia: Woolworths to give elde...   \n",
       "3  My food stock is not the only one which is emp...   \n",
       "4  Me, ready to go at supermarket during the #COV...   \n",
       "\n",
       "                                               Tweet  \n",
       "0                 [@menyrbi, @phil_gahan, @chrisitv]  \n",
       "1  [advic, talk, neighbour, famili, exchang, phon...  \n",
       "2  [coronaviru, australia, woolworth, give, elder...  \n",
       "3  [food, stock, one, empti, ..., pleas, panic, e...  \n",
       "4  [readi, go, supermarket, outbreak, i'm, parano...  "
      ]
     },
     "execution_count": 38,
     "metadata": {},
     "output_type": "execute_result"
    }
   ],
   "source": [
    "# Apply these functions to the dataset and visualise the first 5 rows\n",
    "df['Tweet'] = df['Tweet'].apply(stemming)\n",
    "\n",
    "# Visualizing the first 5 rows\n",
    "df[['OriginalTweet', 'Tweet']].head()"
   ]
  },
  {
   "cell_type": "markdown",
   "id": "8629ae8e",
   "metadata": {},
   "source": [
    "##  Model development"
   ]
  },
  {
   "cell_type": "code",
   "execution_count": 39,
   "id": "2f9aee4a",
   "metadata": {},
   "outputs": [
    {
     "data": {
      "text/plain": [
       "(44957, 38366)"
      ]
     },
     "execution_count": 39,
     "metadata": {},
     "output_type": "execute_result"
    }
   ],
   "source": [
    "# Create a tf-idf vectorizer and fit the function\n",
    "from sklearn.feature_extraction.text import TfidfVectorizer\n",
    "\n",
    "# Initialize a TF-IDF Vectorizer\n",
    "tfidf_vectorizer = TfidfVectorizer()\n",
    "\n",
    "# Join the tokenized and stemmed tweets to a single string for each row\n",
    "df['Tweet'] = df['Tweet'].apply(lambda x: ' '.join(x))\n",
    "\n",
    "# Fit the vectorizer to the processed tweets\n",
    "tfidf_matrix = tfidf_vectorizer.fit_transform(df['Tweet'])\n",
    "\n",
    "tfidf_matrix.shape"
   ]
  },
  {
   "cell_type": "code",
   "execution_count": 40,
   "id": "8e6c3744",
   "metadata": {},
   "outputs": [
    {
     "data": {
      "text/plain": [
       "((35962,), (8991,))"
      ]
     },
     "execution_count": 40,
     "metadata": {},
     "output_type": "execute_result"
    }
   ],
   "source": [
    "# Keeping only the columns Tweet and Sentiment, split your dataset into training (80%) and test (20%) sets.\n",
    "from sklearn.feature_extraction.text import TfidfVectorizer\n",
    "from sklearn.linear_model import LogisticRegression\n",
    "from sklearn.model_selection import train_test_split\n",
    "from sklearn.metrics import accuracy_score, classification_report\n",
    "\n",
    "df_subset = df[['Tweet', 'Sentiment']]\n",
    "df_subset = df_subset.dropna(subset=['Sentiment'])\n",
    "# Splitting the dataset into training and test sets\n",
    "X_train, X_test, y_train, y_test = train_test_split(df_subset['Tweet'], df_subset['Sentiment'], \n",
    "                                                    test_size=0.2, random_state=42)\n",
    "\n",
    "X_train.shape, X_test.shape"
   ]
  },
  {
   "cell_type": "code",
   "execution_count": 41,
   "id": "e16a45fd",
   "metadata": {},
   "outputs": [],
   "source": [
    "# Build a logistic regression model and fit the data. \n",
    "\n",
    "X_train_transformed = tfidf_vectorizer.fit_transform(X_train)\n",
    "X_test_transformed = tfidf_vectorizer.transform(X_test)\n",
    "\n",
    "# Instantiate and train the logistic regression model\n",
    "logreg = LogisticRegression(max_iter=1000)\n",
    "logreg.fit(X_train_transformed, y_train)\n",
    "\n",
    "# Predict the sentiment for the test data\n",
    "y_pred = logreg.predict(X_test_transformed)"
   ]
  },
  {
   "cell_type": "code",
   "execution_count": 42,
   "id": "6c9e9380",
   "metadata": {},
   "outputs": [
    {
     "data": {
      "text/plain": [
       "0.8035813591369146"
      ]
     },
     "execution_count": 42,
     "metadata": {},
     "output_type": "execute_result"
    }
   ],
   "source": [
    "# What is the accuracy of the model?\n",
    "# Calculate the accuracy of the model\n",
    "accuracy = accuracy_score(y_test, y_pred)\n",
    "\n",
    "accuracy"
   ]
  },
  {
   "cell_type": "code",
   "execution_count": 43,
   "id": "8cf49840",
   "metadata": {},
   "outputs": [
    {
     "name": "stdout",
     "output_type": "stream",
     "text": [
      "              precision    recall  f1-score   support\n",
      "\n",
      "    Negative       0.81      0.82      0.82      3385\n",
      "     Neutral       0.76      0.64      0.69      1682\n",
      "    Positive       0.82      0.86      0.84      3924\n",
      "\n",
      "    accuracy                           0.80      8991\n",
      "   macro avg       0.79      0.77      0.78      8991\n",
      "weighted avg       0.80      0.80      0.80      8991\n",
      "\n"
     ]
    }
   ],
   "source": [
    "# Generate a classification report.\n",
    "print(classification_report(y_test, y_pred))"
   ]
  },
  {
   "cell_type": "markdown",
   "id": "515d54f4",
   "metadata": {},
   "source": [
    "## COMMENT\n",
    "The model achieves an accuracy of 80% which is a very good performance given the complexity of the sentiment analysis. Overall, he model demonstrates a robust performance, especially in distinguishing positive and negative sentiments. However, there's potential for improvement in classifying neutral tweets."
   ]
  },
  {
   "cell_type": "markdown",
   "id": "866908c0",
   "metadata": {},
   "source": [
    "# Question 3"
   ]
  },
  {
   "cell_type": "code",
   "execution_count": 44,
   "id": "07388487",
   "metadata": {},
   "outputs": [
    {
     "data": {
      "text/html": [
       "<div>\n",
       "<style scoped>\n",
       "    .dataframe tbody tr th:only-of-type {\n",
       "        vertical-align: middle;\n",
       "    }\n",
       "\n",
       "    .dataframe tbody tr th {\n",
       "        vertical-align: top;\n",
       "    }\n",
       "\n",
       "    .dataframe thead th {\n",
       "        text-align: right;\n",
       "    }\n",
       "</style>\n",
       "<table border=\"1\" class=\"dataframe\">\n",
       "  <thead>\n",
       "    <tr style=\"text-align: right;\">\n",
       "      <th></th>\n",
       "      <th>x1</th>\n",
       "      <th>x2</th>\n",
       "    </tr>\n",
       "  </thead>\n",
       "  <tbody>\n",
       "    <tr>\n",
       "      <th>0</th>\n",
       "      <td>27.440675</td>\n",
       "      <td>58.350216</td>\n",
       "    </tr>\n",
       "    <tr>\n",
       "      <th>1</th>\n",
       "      <td>35.759468</td>\n",
       "      <td>70.721069</td>\n",
       "    </tr>\n",
       "    <tr>\n",
       "      <th>2</th>\n",
       "      <td>30.138169</td>\n",
       "      <td>59.607830</td>\n",
       "    </tr>\n",
       "    <tr>\n",
       "      <th>3</th>\n",
       "      <td>27.244159</td>\n",
       "      <td>59.877037</td>\n",
       "    </tr>\n",
       "    <tr>\n",
       "      <th>4</th>\n",
       "      <td>21.182740</td>\n",
       "      <td>36.731351</td>\n",
       "    </tr>\n",
       "  </tbody>\n",
       "</table>\n",
       "</div>"
      ],
      "text/plain": [
       "          x1         x2\n",
       "0  27.440675  58.350216\n",
       "1  35.759468  70.721069\n",
       "2  30.138169  59.607830\n",
       "3  27.244159  59.877037\n",
       "4  21.182740  36.731351"
      ]
     },
     "execution_count": 44,
     "metadata": {},
     "output_type": "execute_result"
    }
   ],
   "source": [
    "q3_data = pd.read_csv('q3_data.csv')\n",
    "q3_data.head()"
   ]
  },
  {
   "cell_type": "code",
   "execution_count": 45,
   "id": "992d9067",
   "metadata": {},
   "outputs": [
    {
     "data": {
      "text/html": [
       "<div>\n",
       "<style scoped>\n",
       "    .dataframe tbody tr th:only-of-type {\n",
       "        vertical-align: middle;\n",
       "    }\n",
       "\n",
       "    .dataframe tbody tr th {\n",
       "        vertical-align: top;\n",
       "    }\n",
       "\n",
       "    .dataframe thead th {\n",
       "        text-align: right;\n",
       "    }\n",
       "</style>\n",
       "<table border=\"1\" class=\"dataframe\">\n",
       "  <thead>\n",
       "    <tr style=\"text-align: right;\">\n",
       "      <th></th>\n",
       "      <th>x1</th>\n",
       "      <th>x2</th>\n",
       "    </tr>\n",
       "  </thead>\n",
       "  <tbody>\n",
       "    <tr>\n",
       "      <th>mean</th>\n",
       "      <td>49.79</td>\n",
       "      <td>-50.17</td>\n",
       "    </tr>\n",
       "    <tr>\n",
       "      <th>median</th>\n",
       "      <td>50.26</td>\n",
       "      <td>-50.36</td>\n",
       "    </tr>\n",
       "  </tbody>\n",
       "</table>\n",
       "</div>"
      ],
      "text/plain": [
       "           x1     x2\n",
       "mean    49.79 -50.17\n",
       "median  50.26 -50.36"
      ]
     },
     "execution_count": 45,
     "metadata": {},
     "output_type": "execute_result"
    }
   ],
   "source": [
    "# What is the mean, mode, median and interquartile range for x1 and x2?\n",
    "q3_data.agg({'x1':['mean','median'], 'x2': ['mean','median']}).round(2)"
   ]
  },
  {
   "cell_type": "code",
   "execution_count": 46,
   "id": "8a1d6e90",
   "metadata": {},
   "outputs": [],
   "source": [
    "# create a function to calculate iqr\n",
    "def pct(column):\n",
    "    return column.quantile(0.75) - column.quantile(0.25)"
   ]
  },
  {
   "cell_type": "code",
   "execution_count": 47,
   "id": "120d9b9c",
   "metadata": {},
   "outputs": [
    {
     "name": "stdout",
     "output_type": "stream",
     "text": [
      "x1_mode: 0.23, x2_mode: -210.09, x1_iqr: 45.91, x2_iqr: 201.34\n"
     ]
    }
   ],
   "source": [
    "print(f'x1_mode: {q3_data.x1.mode()[0].round(2)}, x2_mode: {q3_data.x2.mode()[0].round(2)},\\\n",
    " x1_iqr: {q3_data.x1.agg(pct).round(2)}, x2_iqr: {q3_data.x2.agg(pct).round(2)}')"
   ]
  },
  {
   "cell_type": "code",
   "execution_count": 48,
   "id": "50fdc703",
   "metadata": {},
   "outputs": [
    {
     "data": {
      "text/plain": [
       "-0.8318445482811823"
      ]
     },
     "execution_count": 48,
     "metadata": {},
     "output_type": "execute_result"
    }
   ],
   "source": [
    "# What is the correlation coefficient between x1 and x2?\n",
    "# Calculate the correlation coefficient between x1 and x2\n",
    "correlation_coefficient = q3_data['x1'].corr(q3_data['x2'])\n",
    "\n",
    "correlation_coefficient"
   ]
  },
  {
   "cell_type": "code",
   "execution_count": 50,
   "id": "b12631f9",
   "metadata": {},
   "outputs": [
    {
     "data": {
      "image/png": "[encoded data removed]",
      "text/plain": [
       "<Figure size 864x504 with 1 Axes>"
      ]
     },
     "metadata": {
      "needs_background": "light"
     },
     "output_type": "display_data"
    }
   ],
   "source": [
    "# Fit a regression line and visualise the data points\n",
    "# Reshape data and fit a regression line\n",
    "\n",
    "from sklearn.linear_model import LinearRegression\n",
    "X = q3_data['x1'].values.reshape(-1, 1)\n",
    "y = q3_data['x2'].values\n",
    "regression_model = LinearRegression().fit(X, y)\n",
    "\n",
    "# Predict values for the regression line\n",
    "predicted_y = regression_model.predict(X)\n",
    "\n",
    "# Visualize the data points and regression line\n",
    "plt.figure(figsize=(12, 7))\n",
    "sns.scatterplot(x=q3_data['x1'], y=q3_data['x2'], color='blue', label='Data Points')\n",
    "plt.plot(q3_data['x1'], predicted_y, color='red', label='Regression Line')\n",
    "plt.title('Scatter Plot with Regression Line')\n",
    "plt.xlabel('x1')\n",
    "plt.ylabel('x2')\n",
    "plt.legend()\n",
    "plt.show()"
   ]
  },
  {
   "cell_type": "markdown",
   "id": "ee7ffb1a",
   "metadata": {},
   "source": [
    "# COMMENTS\n",
    "The calculated correlation coefficient of approximately −0.8318 indicates a strong negative linear relationship between x1 and x2. The regression line in the scatter plot confirms thios negatiove relationship as the line has a clear downwar inclined slope. With regards to the distribution of the data points, they lie mostly around the regression line, reinforcing the correlation's indication of a strong relationship. Though some outliers exist, the majority of the data points support this negative correlation."
   ]
  },
  {
   "cell_type": "code",
   "execution_count": null,
   "id": "1bc9894f",
   "metadata": {},
   "outputs": [],
   "source": []
  }
 ],
 "metadata": {
  "kernelspec": {
   "display_name": "Python 3 (ipykernel)",
   "language": "python",
   "name": "python3"
  },
  "language_info": {
   "codemirror_mode": {
    "name": "ipython",
    "version": 3
   },
   "file_extension": ".py",
   "mimetype": "text/x-python",
   "name": "python",
   "nbconvert_exporter": "python",
   "pygments_lexer": "ipython3",
   "version": "3.10.0"
  }
 },
 "nbformat": 4,
 "nbformat_minor": 5
}
